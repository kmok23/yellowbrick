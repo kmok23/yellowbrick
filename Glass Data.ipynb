{
 "cells": [
  {
   "cell_type": "code",
   "execution_count": 4,
   "metadata": {
    "collapsed": false,
    "deletable": true,
    "editable": true
   },
   "outputs": [],
   "source": [
    "%matplotlib inline\n",
    "import unittest\n",
    "import numpy as np\n",
    "import pandas as pd\n",
    "\n",
    "from tests.base import VisualTestCase\n",
    "from yellowbrick import neighbors as nb\n",
    "from sklearn import neighbors\n",
    "from sklearn.naive_bayes import MultinomialNB\n",
    "import csv\n",
    "from sklearn import datasets\n"
   ]
  },
  {
   "cell_type": "code",
   "execution_count": 6,
   "metadata": {
    "collapsed": false,
    "deletable": true,
    "editable": true
   },
   "outputs": [
    {
     "data": {
      "image/png": "[encoded data removed]",
      "text/plain": [
       "<matplotlib.figure.Figure at 0x111939358>"
      ]
     },
     "metadata": {},
     "output_type": "display_data"
    }
   ],
   "source": [
    "df = pd.read_csv('./examples/ndanielsen/glass.data', index_col='Id')\n",
    "model = neighbors.KNeighborsClassifier(25, weights='distance')\n",
    "model = MultinomialNB()\n",
    "\n",
    "# Ri,Na,Mg,Al,Si,K,Ca,Ba,Fe,GlassType\n",
    "# 1.52101,13.64,\n",
    "\n",
    "X = df[['Ri', 'Al']].as_matrix()\n",
    "y = df['GlassType'].as_matrix()\n",
    "\n",
    "viz = nb.KnnDecisionBoundariesVisualizer(model, features=['Ri', 'K']) # classes=['zero', 'one', 'two', 'three', 'four'])\n",
    "viz.fit_draw_poof(X, y)"
   ]
  },
  {
   "cell_type": "code",
   "execution_count": null,
   "metadata": {
    "collapsed": false,
    "deletable": true,
    "editable": true
   },
   "outputs": [],
   "source": []
  },
  {
   "cell_type": "code",
   "execution_count": null,
   "metadata": {
    "collapsed": true,
    "deletable": true,
    "editable": true
   },
   "outputs": [],
   "source": []
  }
 ],
 "metadata": {
  "kernelspec": {
   "display_name": "Python 3",
   "language": "python",
   "name": "python3"
  },
  "language_info": {
   "codemirror_mode": {
    "name": "ipython",
    "version": 3
   },
   "file_extension": ".py",
   "mimetype": "text/x-python",
   "name": "python",
   "nbconvert_exporter": "python",
   "pygments_lexer": "ipython3",
   "version": "3.5.2"
  }
 },
 "nbformat": 4,
 "nbformat_minor": 2
}
